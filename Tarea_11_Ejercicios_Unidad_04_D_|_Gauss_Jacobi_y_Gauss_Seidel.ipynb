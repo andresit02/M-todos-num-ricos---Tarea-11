{
  "nbformat": 4,
  "nbformat_minor": 0,
  "metadata": {
    "colab": {
      "provenance": [],
      "authorship_tag": "ABX9TyPUG6e31sAVQW9nsQ6EwIcs",
      "include_colab_link": true
    },
    "kernelspec": {
      "name": "python3",
      "display_name": "Python 3"
    },
    "language_info": {
      "name": "python"
    }
  },
  "cells": [
    {
      "cell_type": "markdown",
      "metadata": {
        "id": "view-in-github",
        "colab_type": "text"
      },
      "source": [
        "<a href=\"https://colab.research.google.com/github/andresit02/M-todos-num-ricos---Tarea-11/blob/main/Tarea_11_Ejercicios_Unidad_04_D_%7C_Gauss_Jacobi_y_Gauss_Seidel.ipynb\" target=\"_parent\"><img src=\"https://colab.research.google.com/assets/colab-badge.svg\" alt=\"Open In Colab\"/></a>"
      ]
    },
    {
      "cell_type": "markdown",
      "source": [
        "### ***Realizado por: Andres P. Fernandez O.***"
      ],
      "metadata": {
        "id": "pN4od_Tne6Mo"
      }
    },
    {
      "cell_type": "markdown",
      "source": [
        "1. Encuentre las primeras dos iteraciones del método de Jacobi para los siguientes sistemas lineales, pormedio de 𝐱(𝟎) = 0:\n",
        "\n",
        "- a. 3x_{1} - x_{2} + x_{3} = 1 , 3x_{1} + 6x_{2} + 2x_{3} = 0, 3x_{1} + 3x_{2} + 7x_{3} = 4.\n",
        "- b. 10x_{1} - x_{2} = 9, - x_{1} + 10x_{2} - 2x_{3} = 7, - 2x_{2} + 10x_{3} = 6.\n",
        "- c. 10x1 + 5x2 = 6, 5x1+10x24x3 = 25, - 4X2+8X3 X4 = -11, - X3+5X4-11.\n",
        "- d. 4x_{1} + x_{2} + x_{3} + x_{5} = 6, - x_{1} - 3x_{2} + x_{3} + x_{4} = 6, 2x1+x2+5x3- X4 - X5 = 6, -X1-X2- X3 + 4X4 = 6, 2X2 X3 X4 + 4x5 = 6.\n"
      ],
      "metadata": {
        "id": "K2JxXh7Zfc-k"
      }
    },
    {
      "cell_type": "code",
      "execution_count": 2,
      "metadata": {
        "colab": {
          "base_uri": "https://localhost:8080/"
        },
        "id": "auz47KXbezys",
        "outputId": "7cac0729-bc0e-4703-ef31-588a1ca49555"
      },
      "outputs": [
        {
          "output_type": "stream",
          "name": "stdout",
          "text": [
            "Sistema a:\n",
            "Primera iteración: [0.33333333 0.         0.57142857]\n",
            "Segunda iteración: [ 0.14285714 -0.35714286  0.42857143]\n",
            "\n",
            "Sistema b:\n",
            "Primera iteración: [0.9 0.7 0.6]\n",
            "Segunda iteración: [0.97 0.91 0.74]\n",
            "\n",
            "Sistema c:\n",
            "Primera iteración: [ 0.6    2.5   -1.375  2.2  ]\n",
            "Segunda iteración: [-0.65   1.65  -0.4    1.925]\n",
            "\n",
            "Sistema d:\n",
            "Primera iteración: [ 1.5 -2.   1.2  1.5  1.5]\n",
            "Segunda iteración: [ 0.95  -1.6    1.6    1.675  1.825]\n",
            "\n"
          ]
        }
      ],
      "source": [
        "import numpy as np\n",
        "\n",
        "def jacobi_iteration(A, b, x0, iterations):\n",
        "    \"\"\" Realiza el método de Jacobi para un número especificado de iteraciones. \"\"\"\n",
        "    n = len(b)\n",
        "    x = np.copy(x0)\n",
        "    x_new = np.copy(x0)\n",
        "\n",
        "    for _ in range(iterations):\n",
        "        for i in range(n):\n",
        "            sum1 = sum(A[i][j] * x0[j] for j in range(n) if j != i)\n",
        "            x_new[i] = (b[i] - sum1) / A[i][i]\n",
        "        x0 = np.copy(x_new)\n",
        "\n",
        "    return x_new\n",
        "\n",
        "# Definir matrices y vectores para cada sistema\n",
        "systems = {\n",
        "    'a': {\n",
        "        'A': np.array([\n",
        "            [3, -1, 1],\n",
        "            [3, 6, 2],\n",
        "            [3, 3, 7]\n",
        "        ]),\n",
        "        'b': np.array([1, 0, 4])\n",
        "    },\n",
        "    'b': {\n",
        "        'A': np.array([\n",
        "            [10, -1, 0],\n",
        "            [-1, 10, -2],\n",
        "            [0, -2, 10]\n",
        "        ]),\n",
        "        'b': np.array([9, 7, 6])\n",
        "    },\n",
        "    'c': {\n",
        "        'A': np.array([\n",
        "            [10, 5, 0, 0],\n",
        "            [5, 10, -4, 0],\n",
        "            [0, -4, 8, 1],\n",
        "            [0, 0, -1, 5]\n",
        "        ]),\n",
        "        'b': np.array([6, 25, -11, 11])\n",
        "    },\n",
        "    'd': {\n",
        "        'A': np.array([\n",
        "            [4, 1, 1, 1, 1],\n",
        "            [-1, -3, 1, 1, 0],\n",
        "            [2, 1, 5, -1, -1],\n",
        "            [-1, -1, -1, 4, 0],\n",
        "            [0, 2, 1, 1, 4]\n",
        "        ]),\n",
        "        'b': np.array([6, 6, 6, 6, 6])\n",
        "    }\n",
        "}\n",
        "\n",
        "# Realizar las primeras dos iteraciones para cada sistema\n",
        "initial_guess = np.zeros(5)  # Suponemos que el sistema más grande tiene 5 variables\n",
        "\n",
        "for key, system in systems.items():\n",
        "    A = system['A']\n",
        "    b = system['b']\n",
        "    n = len(b)\n",
        "    # Ajustar el tamaño de la suposición inicial para sistemas con menos variables\n",
        "    initial_guess = np.zeros(n)\n",
        "\n",
        "    print(f\"Sistema {key}:\")\n",
        "    x_1 = jacobi_iteration(A, b, initial_guess, 1)\n",
        "    x_2 = jacobi_iteration(A, b, x_1, 1)\n",
        "    print(f\"Primera iteración: {x_1}\")\n",
        "    print(f\"Segunda iteración: {x_2}\")\n",
        "    print()\n"
      ]
    },
    {
      "cell_type": "markdown",
      "source": [
        "2. Repita el ejercicio 1 usando el método de Gauss-Siedel."
      ],
      "metadata": {
        "id": "9jnwPy8PfjxL"
      }
    },
    {
      "cell_type": "code",
      "source": [
        "def gauss_seidel_iteration(A, b, x0, iterations):\n",
        "    \"\"\" Realiza el método de Gauss-Seidel para un número especificado de iteraciones. \"\"\"\n",
        "    n = len(b)\n",
        "    x = np.copy(x0)\n",
        "\n",
        "    for _ in range(iterations):\n",
        "        for i in range(n):\n",
        "            sum1 = sum(A[i][j] * x[j] for j in range(i))\n",
        "            sum2 = sum(A[i][j] * x0[j] for j in range(i + 1, n))\n",
        "            x[i] = (b[i] - sum1 - sum2) / A[i][i]\n",
        "        x0 = np.copy(x)\n",
        "\n",
        "    return x\n",
        "\n",
        "# Definir matrices y vectores para cada sistema\n",
        "systems = {\n",
        "    'a': {\n",
        "        'A': np.array([\n",
        "            [3, -1, 1],\n",
        "            [3, 6, 2],\n",
        "            [3, 3, 7]\n",
        "        ]),\n",
        "        'b': np.array([1, 0, 4])\n",
        "    },\n",
        "    'b': {\n",
        "        'A': np.array([\n",
        "            [10, -1, 0],\n",
        "            [-1, 10, -2],\n",
        "            [0, -2, 10]\n",
        "        ]),\n",
        "        'b': np.array([9, 7, 6])\n",
        "    },\n",
        "    'c': {\n",
        "        'A': np.array([\n",
        "            [10, 5, 0, 0],\n",
        "            [5, 10, -4, 0],\n",
        "            [0, -4, 8, 1],\n",
        "            [0, 0, -1, 5]\n",
        "        ]),\n",
        "        'b': np.array([6, 25, -11, 11])\n",
        "    },\n",
        "    'd': {\n",
        "        'A': np.array([\n",
        "            [4, 1, 1, 0, 1],\n",
        "            [-1, -3, 1, 1, 0],\n",
        "            [2, 1, 5, -1, -1],\n",
        "            [-1, -1, -1, 4, 0],\n",
        "            [0, 2, 1, 1, 4]\n",
        "        ]),\n",
        "        'b': np.array([6, 6, 6, 6, 6])\n",
        "    }\n",
        "}\n",
        "\n",
        "# Realizar las primeras dos iteraciones para cada sistema\n",
        "initial_guess = np.zeros(5)  # Suponemos que el sistema más grande tiene 5 variables\n",
        "\n",
        "for key, system in systems.items():\n",
        "    A = system['A']\n",
        "    b = system['b']\n",
        "    n = len(b)\n",
        "    # Ajustar el tamaño de la suposición inicial para sistemas con menos variables\n",
        "    initial_guess = np.zeros(n)\n",
        "\n",
        "    print(f\"Sistema {key}:\")\n",
        "    x_1 = gauss_seidel_iteration(A, b, initial_guess, 1)\n",
        "    x_2 = gauss_seidel_iteration(A, b, x_1, 1)\n",
        "    print(f\"Primera iteración: {x_1}\")\n",
        "    print(f\"Segunda iteración: {x_2}\")\n",
        "    print()\n"
      ],
      "metadata": {
        "colab": {
          "base_uri": "https://localhost:8080/"
        },
        "id": "1TyIepxpfkeK",
        "outputId": "64d9d674-e158-4643-c83a-d7fbd4cd43ba"
      },
      "execution_count": 3,
      "outputs": [
        {
          "output_type": "stream",
          "name": "stdout",
          "text": [
            "Sistema a:\n",
            "Primera iteración: [ 0.33333333 -0.16666667  0.5       ]\n",
            "Segunda iteración: [ 0.11111111 -0.22222222  0.61904762]\n",
            "\n",
            "Sistema b:\n",
            "Primera iteración: [0.9   0.79  0.758]\n",
            "Segunda iteración: [0.979  0.9495 0.7899]\n",
            "\n",
            "Sistema c:\n",
            "Primera iteración: [ 0.6    2.2   -0.275  2.145]\n",
            "Segunda iteración: [-0.5       2.64     -0.323125  2.135375]\n",
            "\n",
            "Sistema d:\n",
            "Primera iteración: [ 1.5     -2.5      1.1      1.525    2.09375]\n",
            "Segunda iteración: [ 1.3265625  -1.5671875   1.7065625   1.86648437  1.39033203]\n",
            "\n"
          ]
        }
      ]
    },
    {
      "cell_type": "markdown",
      "source": [
        "3. Utilice el método de Jacobi para resolver los sistemas lineales en el ejercicio 1, con TOL = 10-3."
      ],
      "metadata": {
        "id": "pCx6tswmfmW_"
      }
    },
    {
      "cell_type": "code",
      "source": [
        "def jacobi_method(A, b, x0, tol=1e-3, max_iter=1000):\n",
        "    \"\"\" Resuelve un sistema lineal usando el método de Jacobi con tolerancia especificada. \"\"\"\n",
        "    n = len(b)\n",
        "    x = np.copy(x0)\n",
        "    x_new = np.copy(x0)\n",
        "\n",
        "    for _ in range(max_iter):\n",
        "        for i in range(n):\n",
        "            sum1 = sum(A[i][j] * x0[j] for j in range(n) if j != i)\n",
        "            x_new[i] = (b[i] - sum1) / A[i][i]\n",
        "\n",
        "        # Verificar el criterio de convergencia\n",
        "        if np.linalg.norm(x_new - x0, ord=np.inf) < tol:\n",
        "            return x_new\n",
        "\n",
        "        x0 = np.copy(x_new)\n",
        "\n",
        "    return x_new\n",
        "\n",
        "# Definir matrices y vectores para cada sistema\n",
        "systems = {\n",
        "    'a': {\n",
        "        'A': np.array([\n",
        "            [3, -1, 1],\n",
        "            [3, 6, 2],\n",
        "            [3, 3, 7]\n",
        "        ]),\n",
        "        'b': np.array([1, 0, 4])\n",
        "    },\n",
        "    'b': {\n",
        "        'A': np.array([\n",
        "            [10, -1, 0],\n",
        "            [-1, 10, -2],\n",
        "            [0, -2, 10]\n",
        "        ]),\n",
        "        'b': np.array([9, 7, 6])\n",
        "    },\n",
        "    'c': {\n",
        "        'A': np.array([\n",
        "            [10, 5, 0, 0],\n",
        "            [5, 10, -4, 0],\n",
        "            [0, -4, 8, 1],\n",
        "            [0, 0, -1, 5]\n",
        "        ]),\n",
        "        'b': np.array([6, 25, -11, 11])\n",
        "    },\n",
        "    'd': {\n",
        "        'A': np.array([\n",
        "            [4, 1, 1, 0, 1],\n",
        "            [-1, -3, 1, 1, 0],\n",
        "            [2, 1, 5, -1, -1],\n",
        "            [-1, -1, -1, 4, 0],\n",
        "            [0, 2, 1, 1, 4]\n",
        "        ]),\n",
        "        'b': np.array([6, 6, 6, 6, 6])\n",
        "    }\n",
        "}\n",
        "\n",
        "# Resolver los sistemas con el método de Jacobi\n",
        "initial_guess = np.zeros(5)  # Suponemos que el sistema más grande tiene 5 variables\n",
        "\n",
        "for key, system in systems.items():\n",
        "    A = system['A']\n",
        "    b = system['b']\n",
        "    n = len(b)\n",
        "    # Ajustar el tamaño de la suposición inicial para sistemas con menos variables\n",
        "    initial_guess = np.zeros(n)\n",
        "\n",
        "    print(f\"Sistema {key}:\")\n",
        "    solution = jacobi_method(A, b, initial_guess, tol=1e-3)\n",
        "    print(f\"Solución: {solution}\")\n",
        "    print()"
      ],
      "metadata": {
        "colab": {
          "base_uri": "https://localhost:8080/"
        },
        "id": "tuNn8u94fn6x",
        "outputId": "837e4510-a862-470a-c39a-856ed7a150b8"
      },
      "execution_count": 4,
      "outputs": [
        {
          "output_type": "stream",
          "name": "stdout",
          "text": [
            "Sistema a:\n",
            "Solución: [ 0.03510079 -0.23663751  0.65812732]\n",
            "\n",
            "Sistema b:\n",
            "Solución: [0.995725 0.957775 0.79145 ]\n",
            "\n",
            "Sistema c:\n",
            "Solución: [-0.80210138  2.80369174 -0.24184947  2.15149673]\n",
            "\n",
            "Sistema d:\n",
            "Solución: [ 1.08729189 -1.19455906  1.62457149  1.87891139  1.22183353]\n",
            "\n"
          ]
        }
      ]
    },
    {
      "cell_type": "markdown",
      "source": [
        "4. Utilice el método de Gauss-Siedel para resolver los sistemas lineales en el ejercicio 1, con TOL = 10-3."
      ],
      "metadata": {
        "id": "R64oWUXKfvm-"
      }
    },
    {
      "cell_type": "code",
      "source": [
        "def gauss_seidel_method(A, b, x0, tol=1e-3, max_iter=1000):\n",
        "    \"\"\" Resuelve un sistema lineal usando el método de Gauss-Seidel con tolerancia especificada. \"\"\"\n",
        "    n = len(b)\n",
        "    x = np.copy(x0)\n",
        "\n",
        "    for _ in range(max_iter):\n",
        "        x_old = np.copy(x)\n",
        "        for i in range(n):\n",
        "            sum1 = sum(A[i][j] * x[j] for j in range(i))\n",
        "            sum2 = sum(A[i][j] * x_old[j] for j in range(i + 1, n))\n",
        "            x[i] = (b[i] - sum1 - sum2) / A[i][i]\n",
        "\n",
        "        # Verificar el criterio de convergencia\n",
        "        if np.linalg.norm(x - x_old, ord=np.inf) < tol:\n",
        "            return x\n",
        "\n",
        "    return x\n",
        "\n",
        "# Definir matrices y vectores para cada sistema\n",
        "systems = {\n",
        "    'a': {\n",
        "        'A': np.array([\n",
        "            [3, -1, 1],\n",
        "            [3, 6, 2],\n",
        "            [3, 3, 7]\n",
        "        ]),\n",
        "        'b': np.array([1, 0, 4])\n",
        "    },\n",
        "    'b': {\n",
        "        'A': np.array([\n",
        "            [10, -1, 0],\n",
        "            [-1, 10, -2],\n",
        "            [0, -2, 10]\n",
        "        ]),\n",
        "        'b': np.array([9, 7, 6])\n",
        "    },\n",
        "    'c': {\n",
        "        'A': np.array([\n",
        "            [10, 5, 0, 0],\n",
        "            [5, 10, -4, 0],\n",
        "            [0, -4, 8, 1],\n",
        "            [0, 0, -1, 5]\n",
        "        ]),\n",
        "        'b': np.array([6, 25, -11, 11])\n",
        "    },\n",
        "    'd': {\n",
        "        'A': np.array([\n",
        "            [4, 1, 1, 0, 1],\n",
        "            [-1, -3, 1, 1, 0],\n",
        "            [2, 1, 5, -1, -1],\n",
        "            [-1, -1, -1, 4, 0],\n",
        "            [0, 2, 1, 1, 4]\n",
        "        ]),\n",
        "        'b': np.array([6, 6, 6, 6, 6])\n",
        "    }\n",
        "}\n",
        "\n",
        "# Resolver los sistemas con el método de Gauss-Seidel\n",
        "initial_guess = np.zeros(5)  # Suponemos que el sistema más grande tiene 5 variables\n",
        "\n",
        "for key, system in systems.items():\n",
        "    A = system['A']\n",
        "    b = system['b']\n",
        "    n = len(b)\n",
        "    # Ajustar el tamaño de la suposición inicial para sistemas con menos variables\n",
        "    initial_guess = np.zeros(n)\n",
        "\n",
        "    print(f\"Sistema {key}:\")\n",
        "    solution = gauss_seidel_method(A, b, initial_guess, tol=1e-3)\n",
        "    print(f\"Solución: {solution}\")\n",
        "    print()"
      ],
      "metadata": {
        "colab": {
          "base_uri": "https://localhost:8080/"
        },
        "id": "zIcYxnvHfwXM",
        "outputId": "13b5306c-6d29-4cfb-99b2-00121fa0243c"
      },
      "execution_count": 5,
      "outputs": [
        {
          "output_type": "stream",
          "name": "stdout",
          "text": [
            "Sistema a:\n",
            "Solución: [ 0.03535107 -0.23678863  0.65775895]\n",
            "\n",
            "Sistema b:\n",
            "Solución: [0.9957475  0.95787375 0.79157475]\n",
            "\n",
            "Sistema c:\n",
            "Solución: [-0.8015962   2.80386712 -0.24200825  2.15159835]\n",
            "\n",
            "Sistema d:\n",
            "Solución: [ 1.08728153 -1.1946773   1.62417303  1.87919431  1.22149681]\n",
            "\n"
          ]
        }
      ]
    },
    {
      "cell_type": "markdown",
      "source": [
        "5. El sistema lineal\n",
        "\n",
        "2x_{1} - x_{2} + x_{3} = - 1 ,\n",
        "2x_{1} + 2x_{2} + 2x_{3} = 4,\n",
        "- x_{1} - x_{2} + 2x_{3} = - 5.\n",
        "\n",
        "tiene la solución (1, 2, -1)\n",
        "- a. Muestre que el método de Jacobi con x(0) = 0 falla al proporcionar una buena aproximación\n",
        "después de 25 iteraciones\n",
        "- b. Utilice el método de Gauss-Siedel con x(0) = 0:para aproximar la solución para el sistema lineal\n",
        "dentro de 1^\n",
        "5\n",
        "..t\n"
      ],
      "metadata": {
        "id": "Dx2KL7ppfyPl"
      }
    },
    {
      "cell_type": "code",
      "source": [
        "# Definición de las matrices y el vector b\n",
        "A = np.array([\n",
        "    [2, -1, 1],\n",
        "    [2, 2, 2],\n",
        "    [-1, -1, 2]\n",
        "])\n",
        "b = np.array([-1, 4, -5])\n",
        "true_solution = np.array([1, 2, -1])  # Solución exacta\n",
        "\n",
        "# Método de Jacobi\n",
        "def jacobi_method(A, b, x0, iterations):\n",
        "    \"\"\"Realiza el método de Jacobi para un número especificado de iteraciones.\"\"\"\n",
        "    n = len(b)\n",
        "    x = np.copy(x0)\n",
        "\n",
        "    for _ in range(iterations):\n",
        "        x_new = np.copy(x)\n",
        "        for i in range(n):\n",
        "            sum1 = sum(A[i][j] * x0[j] for j in range(n) if j != i)\n",
        "            x_new[i] = (b[i] - sum1) / A[i][i]\n",
        "        x0 = np.copy(x_new)\n",
        "\n",
        "    return x_new\n",
        "\n",
        "# Método de Gauss-Seidel\n",
        "def gauss_seidel_method(A, b, x0, tol=1e-5, max_iter=1000):\n",
        "    \"\"\"Resuelve un sistema lineal usando el método de Gauss-Seidel con tolerancia especificada.\"\"\"\n",
        "    n = len(b)\n",
        "    x = np.copy(x0)\n",
        "\n",
        "    for _ in range(max_iter):\n",
        "        x_old = np.copy(x)\n",
        "        for i in range(n):\n",
        "            sum1 = sum(A[i][j] * x[j] for j in range(i))\n",
        "            sum2 = sum(A[i][j] * x_old[j] for j in range(i + 1, n))\n",
        "            x[i] = (b[i] - sum1 - sum2) / A[i][i]\n",
        "\n",
        "        # Verificar el criterio de convergencia\n",
        "        if np.linalg.norm(x - x_old, ord=np.inf) < tol:\n",
        "            return x\n",
        "\n",
        "    return x\n",
        "\n",
        "# Inicialización\n",
        "x0 = np.zeros(3)  # Suposición inicial\n",
        "iterations = 25\n",
        "tol = 1e-5\n",
        "\n",
        "# a. Método de Jacobi con 25 iteraciones\n",
        "jacobi_solution = jacobi_method(A, b, x0, iterations)\n",
        "print(f\"Solución con el método de Jacobi después de {iterations} iteraciones: {jacobi_solution}\")\n",
        "print(f\"Error con el método de Jacobi: {np.linalg.norm(jacobi_solution - true_solution)}\")\n",
        "\n",
        "# b. Método de Gauss-Seidel con tolerancia 10^-5\n",
        "gauss_seidel_solution = gauss_seidel_method(A, b, x0, tol)\n",
        "print(f\"Solución con el método de Gauss-Seidel: {gauss_seidel_solution}\")\n",
        "print(f\"Error con el método de Gauss-Seidel: {np.linalg.norm(gauss_seidel_solution - true_solution)}\")"
      ],
      "metadata": {
        "colab": {
          "base_uri": "https://localhost:8080/"
        },
        "id": "nemA8ovjf0Jz",
        "outputId": "9f8f0479-bff3-4fd4-976a-352e9ee950a6"
      },
      "execution_count": 6,
      "outputs": [
        {
          "output_type": "stream",
          "name": "stdout",
          "text": [
            "Solución con el método de Jacobi después de 25 iteraciones: [-20.82787284   2.         -22.82787284]\n",
            "Error con el método de Jacobi: 30.869273811689965\n",
            "Solución con el método de Gauss-Seidel: [ 1.00000226  1.9999975  -1.00000012]\n",
            "Error con el método de Gauss-Seidel: 3.3780639923345455e-06\n"
          ]
        }
      ]
    },
    {
      "cell_type": "markdown",
      "source": [
        "6. El sistema lineal\n",
        "\n",
        "X1- X3 = 0.2,\n",
        "-1/2x1 + x2 + 1/4x3 = -1.425,\n",
        "x1 - 1/2x2 + x3 = 2.\n",
        "\n",
        "tiene la solución (0.9, -0.8, 0.7)\n",
        "- a. ¿La matriz de coeficientes\n",
        "a=\n",
        "\\begin{bmatrix}\n",
        "1 & 0 & -1 \\\\\n",
        "-1/2 & 1 & -1/4\\\\\n",
        "1 & -1/2 & 1\n",
        "\\end{bmatrix}\n",
        "\n",
        "tiene diagonal estrictamente dominante?\n",
        "- b. Utilice el método iterativo de Gauss-Siedel para aproximar la solución para el sistema lineal con\n",
        "una tolerancia de 1022 y un máximo de 300 iteraciones.t"
      ],
      "metadata": {
        "id": "c1uHQSgJf6Q0"
      }
    },
    {
      "cell_type": "code",
      "source": [],
      "metadata": {
        "id": "_ZFipeRpf63O"
      },
      "execution_count": null,
      "outputs": []
    }
  ]
}